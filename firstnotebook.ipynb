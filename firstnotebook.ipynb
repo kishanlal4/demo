{
    "cells": [
        {
            "cell_type": "markdown",
            "metadata": {},
            "source": "# Description\nthis is a notebook"
        },
        {
            "cell_type": "code",
            "execution_count": 1,
            "metadata": {},
            "outputs": [
                {
                    "data": {
                        "text/html": "<div>\n<style scoped>\n    .dataframe tbody tr th:only-of-type {\n        vertical-align: middle;\n    }\n\n    .dataframe tbody tr th {\n        vertical-align: top;\n    }\n\n    .dataframe thead th {\n        text-align: right;\n    }\n</style>\n<table border=\"1\" class=\"dataframe\">\n  <thead>\n    <tr style=\"text-align: right;\">\n      <th></th>\n      <th>_unit_id</th>\n      <th>_golden</th>\n      <th>_unit_state</th>\n      <th>_trusted_judgments</th>\n      <th>_last_judgment_at</th>\n      <th>birthplace</th>\n      <th>birthplace:confidence</th>\n      <th>date_of_birth</th>\n      <th>date_of_birth:confidence</th>\n      <th>race_ethnicity</th>\n      <th>...</th>\n      <th>award</th>\n      <th>biourl</th>\n      <th>birthplace_gold</th>\n      <th>date_of_birth_gold</th>\n      <th>movie</th>\n      <th>person</th>\n      <th>race_ethnicity_gold</th>\n      <th>religion_gold</th>\n      <th>sexual_orientation_gold</th>\n      <th>year_of_award_gold</th>\n    </tr>\n  </thead>\n  <tbody>\n    <tr>\n      <th>0</th>\n      <td>670454353</td>\n      <td>False</td>\n      <td>finalized</td>\n      <td>3</td>\n      <td>02-10-15 3:45</td>\n      <td>Chisinau, Moldova</td>\n      <td>1.0</td>\n      <td>30-Sep-1895</td>\n      <td>1.0</td>\n      <td>White</td>\n      <td>...</td>\n      <td>Best Director</td>\n      <td>http://www.nndb.com/people/320/000043191/</td>\n      <td>NaN</td>\n      <td>NaN</td>\n      <td>Two Arabian Knights</td>\n      <td>Lewis Milestone</td>\n      <td>NaN</td>\n      <td>NaN</td>\n      <td>NaN</td>\n      <td>NaN</td>\n    </tr>\n    <tr>\n      <th>1</th>\n      <td>670454354</td>\n      <td>False</td>\n      <td>finalized</td>\n      <td>3</td>\n      <td>02-10-15 2:03</td>\n      <td>Glasgow, Scotland</td>\n      <td>1.0</td>\n      <td>2-Feb-1886</td>\n      <td>1.0</td>\n      <td>White</td>\n      <td>...</td>\n      <td>Best Director</td>\n      <td>http://www.nndb.com/people/626/000042500/</td>\n      <td>NaN</td>\n      <td>NaN</td>\n      <td>The Divine Lady</td>\n      <td>Frank Lloyd</td>\n      <td>NaN</td>\n      <td>NaN</td>\n      <td>NaN</td>\n      <td>NaN</td>\n    </tr>\n    <tr>\n      <th>2</th>\n      <td>670454355</td>\n      <td>False</td>\n      <td>finalized</td>\n      <td>3</td>\n      <td>02-10-15 2:05</td>\n      <td>Chisinau, Moldova</td>\n      <td>1.0</td>\n      <td>30-Sep-1895</td>\n      <td>1.0</td>\n      <td>White</td>\n      <td>...</td>\n      <td>Best Director</td>\n      <td>http://www.nndb.com/people/320/000043191/</td>\n      <td>NaN</td>\n      <td>NaN</td>\n      <td>All Quiet on the Western Front</td>\n      <td>Lewis Milestone</td>\n      <td>NaN</td>\n      <td>NaN</td>\n      <td>NaN</td>\n      <td>NaN</td>\n    </tr>\n    <tr>\n      <th>3</th>\n      <td>670454356</td>\n      <td>False</td>\n      <td>finalized</td>\n      <td>3</td>\n      <td>02-10-15 2:04</td>\n      <td>Chicago, Il</td>\n      <td>1.0</td>\n      <td>23-Feb-1899</td>\n      <td>1.0</td>\n      <td>White</td>\n      <td>...</td>\n      <td>Best Director</td>\n      <td>http://www.nndb.com/people/544/000041421/</td>\n      <td>NaN</td>\n      <td>NaN</td>\n      <td>Skippy</td>\n      <td>Norman Taurog</td>\n      <td>NaN</td>\n      <td>NaN</td>\n      <td>NaN</td>\n      <td>NaN</td>\n    </tr>\n    <tr>\n      <th>4</th>\n      <td>670454357</td>\n      <td>False</td>\n      <td>finalized</td>\n      <td>3</td>\n      <td>02-10-15 1:48</td>\n      <td>Salt Lake City, Ut</td>\n      <td>1.0</td>\n      <td>23-Apr-1894</td>\n      <td>1.0</td>\n      <td>White</td>\n      <td>...</td>\n      <td>Best Director</td>\n      <td>http://www.nndb.com/people/292/000044160/</td>\n      <td>NaN</td>\n      <td>NaN</td>\n      <td>Bad Girl</td>\n      <td>Frank Borzage</td>\n      <td>NaN</td>\n      <td>NaN</td>\n      <td>NaN</td>\n      <td>NaN</td>\n    </tr>\n  </tbody>\n</table>\n<p>5 rows \u00d7 27 columns</p>\n</div>",
                        "text/plain": "    _unit_id  _golden _unit_state  _trusted_judgments _last_judgment_at  \\\n0  670454353    False   finalized                   3     02-10-15 3:45   \n1  670454354    False   finalized                   3     02-10-15 2:03   \n2  670454355    False   finalized                   3     02-10-15 2:05   \n3  670454356    False   finalized                   3     02-10-15 2:04   \n4  670454357    False   finalized                   3     02-10-15 1:48   \n\n           birthplace  birthplace:confidence date_of_birth  \\\n0   Chisinau, Moldova                    1.0   30-Sep-1895   \n1   Glasgow, Scotland                    1.0    2-Feb-1886   \n2   Chisinau, Moldova                    1.0   30-Sep-1895   \n3         Chicago, Il                    1.0   23-Feb-1899   \n4  Salt Lake City, Ut                    1.0   23-Apr-1894   \n\n   date_of_birth:confidence race_ethnicity  ...          award  \\\n0                       1.0          White  ...  Best Director   \n1                       1.0          White  ...  Best Director   \n2                       1.0          White  ...  Best Director   \n3                       1.0          White  ...  Best Director   \n4                       1.0          White  ...  Best Director   \n\n                                      biourl  birthplace_gold  \\\n0  http://www.nndb.com/people/320/000043191/              NaN   \n1  http://www.nndb.com/people/626/000042500/              NaN   \n2  http://www.nndb.com/people/320/000043191/              NaN   \n3  http://www.nndb.com/people/544/000041421/              NaN   \n4  http://www.nndb.com/people/292/000044160/              NaN   \n\n  date_of_birth_gold                           movie           person  \\\n0                NaN             Two Arabian Knights  Lewis Milestone   \n1                NaN                 The Divine Lady      Frank Lloyd   \n2                NaN  All Quiet on the Western Front  Lewis Milestone   \n3                NaN                          Skippy    Norman Taurog   \n4                NaN                        Bad Girl    Frank Borzage   \n\n   race_ethnicity_gold religion_gold sexual_orientation_gold  \\\n0                  NaN           NaN                     NaN   \n1                  NaN           NaN                     NaN   \n2                  NaN           NaN                     NaN   \n3                  NaN           NaN                     NaN   \n4                  NaN           NaN                     NaN   \n\n  year_of_award_gold  \n0                NaN  \n1                NaN  \n2                NaN  \n3                NaN  \n4                NaN  \n\n[5 rows x 27 columns]"
                    },
                    "execution_count": 1,
                    "metadata": {},
                    "output_type": "execute_result"
                }
            ],
            "source": "# The code was removed by Watson Studio for sharing."
        },
        {
            "cell_type": "code",
            "execution_count": null,
            "metadata": {},
            "outputs": [],
            "source": ""
        }
    ],
    "metadata": {
        "kernelspec": {
            "display_name": "Python 3.7",
            "language": "python",
            "name": "python3"
        },
        "language_info": {
            "codemirror_mode": {
                "name": "ipython",
                "version": 3
            },
            "file_extension": ".py",
            "mimetype": "text/x-python",
            "name": "python",
            "nbconvert_exporter": "python",
            "pygments_lexer": "ipython3",
            "version": "3.7.10"
        }
    },
    "nbformat": 4,
    "nbformat_minor": 1
}